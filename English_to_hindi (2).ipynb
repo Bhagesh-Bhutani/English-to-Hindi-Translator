{
 "cells": [
  {
   "cell_type": "code",
   "execution_count": 0,
   "metadata": {
    "colab": {},
    "colab_type": "code",
    "id": "2iifc8Ex7TSl"
   },
   "outputs": [],
   "source": [
    "import numpy as np\n",
    "import pandas as pd\n",
    "import matplotlib.pyplot as plt\n",
    "from keras.layers import *\n",
    "from keras.models import Model, load_model\n",
    "import re\n",
    "import string\n",
    "from keras.preprocessing.text import Tokenizer\n",
    "from sklearn.model_selection import train_test_split\n",
    "from keras.preprocessing.sequence import pad_sequences\n",
    "from sklearn.utils import shuffle"
   ]
  },
  {
   "cell_type": "code",
   "execution_count": 0,
   "metadata": {
    "colab": {},
    "colab_type": "code",
    "id": "e8pTRvsg7_Y1"
   },
   "outputs": [],
   "source": [
    "df=pd.read_csv(\"english_to_hindi.txt\",sep='\\t')"
   ]
  },
  {
   "cell_type": "code",
   "execution_count": 0,
   "metadata": {
    "colab": {},
    "colab_type": "code",
    "id": "bUHslzhC8CoE"
   },
   "outputs": [],
   "source": [
    "#df=df.drop(columns=[\"Unnamed: 0\"])"
   ]
  },
  {
   "cell_type": "code",
   "execution_count": 0,
   "metadata": {
    "colab": {},
    "colab_type": "code",
    "id": "coicGV8i8GjT"
   },
   "outputs": [],
   "source": [
    "df.columns=[\"English\",\"Hindi\"]"
   ]
  },
  {
   "cell_type": "code",
   "execution_count": 0,
   "metadata": {
    "colab": {},
    "colab_type": "code",
    "id": "_0gUfWYEw6LT"
   },
   "outputs": [],
   "source": [
    "df=shuffle(df)"
   ]
  },
  {
   "cell_type": "code",
   "execution_count": 118,
   "metadata": {
    "colab": {
     "base_uri": "https://localhost:8080/",
     "height": 415
    },
    "colab_type": "code",
    "id": "hcd2frQ_xESL",
    "outputId": "9e7d6b92-8fe5-45c2-d557-b58f611cfb3a"
   },
   "outputs": [
    {
     "data": {
      "text/html": [
       "<div>\n",
       "<style scoped>\n",
       "    .dataframe tbody tr th:only-of-type {\n",
       "        vertical-align: middle;\n",
       "    }\n",
       "\n",
       "    .dataframe tbody tr th {\n",
       "        vertical-align: top;\n",
       "    }\n",
       "\n",
       "    .dataframe thead th {\n",
       "        text-align: right;\n",
       "    }\n",
       "</style>\n",
       "<table border=\"1\" class=\"dataframe\">\n",
       "  <thead>\n",
       "    <tr style=\"text-align: right;\">\n",
       "      <th></th>\n",
       "      <th>English</th>\n",
       "      <th>Hindi</th>\n",
       "    </tr>\n",
       "  </thead>\n",
       "  <tbody>\n",
       "    <tr>\n",
       "      <th>20524</th>\n",
       "      <td>Deleting removed messages from server</td>\n",
       "      <td>कैश से मिटाए संदेश हटा रहे</td>\n",
       "    </tr>\n",
       "    <tr>\n",
       "      <th>14027</th>\n",
       "      <td>Set of fields to display for this dictionary type</td>\n",
       "      <td>इस शब्दकोश किस्म को प्रदर्शित करने के लिए क्षे...</td>\n",
       "    </tr>\n",
       "    <tr>\n",
       "      <th>11008</th>\n",
       "      <td>Hiragana</td>\n",
       "      <td>हिरागाना</td>\n",
       "    </tr>\n",
       "    <tr>\n",
       "      <th>19481</th>\n",
       "      <td>DNS Servers</td>\n",
       "      <td>डीएनएस सर्वर्स</td>\n",
       "    </tr>\n",
       "    <tr>\n",
       "      <th>14091</th>\n",
       "      <td>Stack overflow</td>\n",
       "      <td>स्टैक ओवरफ़्लो</td>\n",
       "    </tr>\n",
       "    <tr>\n",
       "      <th>...</th>\n",
       "      <td>...</td>\n",
       "      <td>...</td>\n",
       "    </tr>\n",
       "    <tr>\n",
       "      <th>2069</th>\n",
       "      <td>The cat slowly approached the mouse.</td>\n",
       "      <td>बिल्ली धीरे से चूहे की तरफ़ बढ़ी।</td>\n",
       "    </tr>\n",
       "    <tr>\n",
       "      <th>6294</th>\n",
       "      <td>ASCII extensions</td>\n",
       "      <td>एक्सटेंशनः</td>\n",
       "    </tr>\n",
       "    <tr>\n",
       "      <th>28940</th>\n",
       "      <td>Kooka Gallery</td>\n",
       "      <td>कूका दीर्घा</td>\n",
       "    </tr>\n",
       "    <tr>\n",
       "      <th>12561</th>\n",
       "      <td>The default image file</td>\n",
       "      <td>डिफ़ॉल्ट छवि फ़ाइल</td>\n",
       "    </tr>\n",
       "    <tr>\n",
       "      <th>8214</th>\n",
       "      <td>Packager</td>\n",
       "      <td>पैकेजर</td>\n",
       "    </tr>\n",
       "  </tbody>\n",
       "</table>\n",
       "<p>29414 rows × 2 columns</p>\n",
       "</div>"
      ],
      "text/plain": [
       "                                                 English                                              Hindi\n",
       "20524              Deleting removed messages from server                         कैश से मिटाए संदेश हटा रहे\n",
       "14027  Set of fields to display for this dictionary type  इस शब्दकोश किस्म को प्रदर्शित करने के लिए क्षे...\n",
       "11008                                           Hiragana                                           हिरागाना\n",
       "19481                                        DNS Servers                                     डीएनएस सर्वर्स\n",
       "14091                                     Stack overflow                                     स्टैक ओवरफ़्लो\n",
       "...                                                  ...                                                ...\n",
       "2069                The cat slowly approached the mouse.                  बिल्ली धीरे से चूहे की तरफ़ बढ़ी।\n",
       "6294                                    ASCII extensions                                         एक्सटेंशनः\n",
       "28940                                      Kooka Gallery                                        कूका दीर्घा\n",
       "12561                             The default image file                                 डिफ़ॉल्ट छवि फ़ाइल\n",
       "8214                                            Packager                                             पैकेजर\n",
       "\n",
       "[29414 rows x 2 columns]"
      ]
     },
     "execution_count": 118,
     "metadata": {
      "tags": []
     },
     "output_type": "execute_result"
    }
   ],
   "source": [
    "df"
   ]
  },
  {
   "cell_type": "code",
   "execution_count": 0,
   "metadata": {
    "colab": {},
    "colab_type": "code",
    "id": "ynRjOVMF8Lsa"
   },
   "outputs": [],
   "source": [
    "df[\"English\"]=df[\"English\"].astype(str)\n",
    "df[\"English\"]=df[\"English\"].apply(lambda x: x.lower())"
   ]
  },
  {
   "cell_type": "code",
   "execution_count": 0,
   "metadata": {
    "colab": {},
    "colab_type": "code",
    "id": "tKxEt05L8P2T"
   },
   "outputs": [],
   "source": [
    "df[\"Hindi\"]=df[\"Hindi\"].apply(lambda x : x.lower())"
   ]
  },
  {
   "cell_type": "code",
   "execution_count": 0,
   "metadata": {
    "colab": {},
    "colab_type": "code",
    "id": "tEYEBm4t8Qnq"
   },
   "outputs": [],
   "source": [
    "df[\"English\"]=df[\"English\"].apply(lambda x : re.sub(\"'\",'',x))\n",
    "df[\"Hindi\"]=df[\"Hindi\"].apply(lambda x : re.sub(\"'\",'',x))"
   ]
  },
  {
   "cell_type": "code",
   "execution_count": 0,
   "metadata": {
    "colab": {},
    "colab_type": "code",
    "id": "eRKqcSJ38QqQ"
   },
   "outputs": [],
   "source": [
    "df[\"English\"]=df[\"English\"].apply(lambda x: re.sub(\"[0-9]\",\"\",x))\n",
    "df[\"Hindi\"]=df[\"Hindi\"].apply(lambda x: re.sub(\"[0-9]\",\"\",x))"
   ]
  },
  {
   "cell_type": "code",
   "execution_count": 0,
   "metadata": {
    "colab": {},
    "colab_type": "code",
    "id": "Jlf0Sqpy8Qs7"
   },
   "outputs": [],
   "source": [
    "spl_chars=string.punctuation\n",
    "df[\"English\"]=df[\"English\"].apply(lambda x: ''.join(ch for ch in x if ch not in spl_chars))\n",
    "df[\"Hindi\"]=df[\"Hindi\"].apply(lambda x: ''.join(ch for ch in x if ch not in spl_chars))"
   ]
  },
  {
   "cell_type": "code",
   "execution_count": 0,
   "metadata": {
    "colab": {},
    "colab_type": "code",
    "id": "B1rXknTB8Qu6"
   },
   "outputs": [],
   "source": [
    "df[\"English\"]=df[\"English\"].apply(lambda x : re.sub(\" +\",\" \",x))\n",
    "df[\"Hindi\"]=df[\"Hindi\"].apply(lambda x : re.sub(\" +\",\" \",x))"
   ]
  },
  {
   "cell_type": "code",
   "execution_count": 0,
   "metadata": {
    "colab": {},
    "colab_type": "code",
    "id": "iPRbOPSt8Qx2"
   },
   "outputs": [],
   "source": [
    "df[\"Hindi\"]=df[\"Hindi\"].apply(lambda x: \"startseq \"+x+\" endseq\")"
   ]
  },
  {
   "cell_type": "code",
   "execution_count": 0,
   "metadata": {
    "colab": {},
    "colab_type": "code",
    "id": "jJq6uBH28Q1O"
   },
   "outputs": [],
   "source": [
    "tokenizer_eng=Tokenizer(10000)\n",
    "tokenizer_hin=Tokenizer(10000)"
   ]
  },
  {
   "cell_type": "code",
   "execution_count": 0,
   "metadata": {
    "colab": {},
    "colab_type": "code",
    "id": "9TKDa2dC8RCm"
   },
   "outputs": [],
   "source": [
    "train_eng=df[\"English\"]\n",
    "train_hin=df[\"Hindi\"]"
   ]
  },
  {
   "cell_type": "code",
   "execution_count": 0,
   "metadata": {
    "colab": {},
    "colab_type": "code",
    "id": "eLk8D17V8RE5"
   },
   "outputs": [],
   "source": [
    "#XT,Xt,YT,Yt=train_test_split(train_eng,train_hin,test_size=0.1)\n",
    "#XT=train_eng\n",
    "#YT=train_hin\n",
    "XT=train_eng\n",
    "YT=train_hin"
   ]
  },
  {
   "cell_type": "code",
   "execution_count": 129,
   "metadata": {
    "colab": {
     "base_uri": "https://localhost:8080/",
     "height": 35
    },
    "colab_type": "code",
    "id": "-uFqRFm7uAh4",
    "outputId": "5269679a-d4a1-431f-a020-c3559e24ea5b"
   },
   "outputs": [
    {
     "data": {
      "text/plain": [
       "((29414,), (29414,))"
      ]
     },
     "execution_count": 129,
     "metadata": {
      "tags": []
     },
     "output_type": "execute_result"
    }
   ],
   "source": [
    "XT.shape,YT.shape"
   ]
  },
  {
   "cell_type": "code",
   "execution_count": 0,
   "metadata": {
    "colab": {},
    "colab_type": "code",
    "id": "KPWY-wLk8RHM"
   },
   "outputs": [],
   "source": [
    "tokenizer_eng.fit_on_texts(XT)"
   ]
  },
  {
   "cell_type": "code",
   "execution_count": 0,
   "metadata": {
    "colab": {},
    "colab_type": "code",
    "id": "qg18uwsn8RJj"
   },
   "outputs": [],
   "source": [
    "tokenizer_hin.fit_on_texts(YT)"
   ]
  },
  {
   "cell_type": "code",
   "execution_count": 0,
   "metadata": {
    "colab": {},
    "colab_type": "code",
    "id": "_t-mndOi8RL7"
   },
   "outputs": [],
   "source": [
    "VOCAB_SIZE_ENG=len(tokenizer_eng.word_index)+1"
   ]
  },
  {
   "cell_type": "code",
   "execution_count": 0,
   "metadata": {
    "colab": {},
    "colab_type": "code",
    "id": "_EdDGZPH8RN5"
   },
   "outputs": [],
   "source": [
    "VOCAB_SIZE_HIN=len(tokenizer_hin.word_index)+1"
   ]
  },
  {
   "cell_type": "code",
   "execution_count": 134,
   "metadata": {
    "colab": {
     "base_uri": "https://localhost:8080/",
     "height": 35
    },
    "colab_type": "code",
    "id": "K-AIL1-1UC3k",
    "outputId": "87e6ba05-fcd8-48ba-d909-1a2071240b68"
   },
   "outputs": [
    {
     "data": {
      "text/plain": [
       "(10653, 11935)"
      ]
     },
     "execution_count": 134,
     "metadata": {
      "tags": []
     },
     "output_type": "execute_result"
    }
   ],
   "source": [
    "VOCAB_SIZE_ENG,VOCAB_SIZE_HIN"
   ]
  },
  {
   "cell_type": "code",
   "execution_count": 0,
   "metadata": {
    "colab": {},
    "colab_type": "code",
    "id": "bFepfwYW8RQO"
   },
   "outputs": [],
   "source": [
    "eng_word_to_idx=dict(tokenizer_eng.word_index)\n",
    "hin_word_to_idx=dict(tokenizer_hin.word_index)\n",
    "eng_idx_to_word=dict(tokenizer_eng.index_word)\n",
    "hin_idx_to_word=dict(tokenizer_hin.index_word)"
   ]
  },
  {
   "cell_type": "code",
   "execution_count": 0,
   "metadata": {
    "colab": {},
    "colab_type": "code",
    "id": "0-SfHlNe8RTq"
   },
   "outputs": [],
   "source": [
    "max_len_eng=0\n",
    "for text in XT:\n",
    "    if(len(text.split())>max_len_eng):\n",
    "        max_len_eng=len(text.split())"
   ]
  },
  {
   "cell_type": "code",
   "execution_count": 0,
   "metadata": {
    "colab": {},
    "colab_type": "code",
    "id": "sgWz7mUq8RVL"
   },
   "outputs": [],
   "source": [
    "max_len_hin=0\n",
    "for text in YT:\n",
    "    if(len(text.split())>max_len_hin):\n",
    "        max_len_hin=len(text.split())"
   ]
  },
  {
   "cell_type": "code",
   "execution_count": 138,
   "metadata": {
    "colab": {
     "base_uri": "https://localhost:8080/",
     "height": 35
    },
    "colab_type": "code",
    "id": "7YpJFkhSULJd",
    "outputId": "a7a95d9e-a93a-43b0-95e7-f4486df1321f"
   },
   "outputs": [
    {
     "data": {
      "text/plain": [
       "(38, 44)"
      ]
     },
     "execution_count": 138,
     "metadata": {
      "tags": []
     },
     "output_type": "execute_result"
    }
   ],
   "source": [
    "max_len_eng,max_len_hin"
   ]
  },
  {
   "cell_type": "code",
   "execution_count": 0,
   "metadata": {
    "colab": {},
    "colab_type": "code",
    "id": "HmCSVYIa8RXY"
   },
   "outputs": [],
   "source": [
    "latent_dim=128\n",
    "encoder_inputs=Input(shape=(None,))\n",
    "enc_emb=Embedding(VOCAB_SIZE_ENG,latent_dim,mask_zero=True)(encoder_inputs)\n",
    "encoder_lstm=LSTM(latent_dim,return_state=True)\n",
    "encoder_outputs, state_h, state_c=encoder_lstm(enc_emb)\n",
    "encoder_states=[state_h,state_c]"
   ]
  },
  {
   "cell_type": "code",
   "execution_count": 0,
   "metadata": {
    "colab": {},
    "colab_type": "code",
    "id": "_dwMrDKB9A1V"
   },
   "outputs": [],
   "source": [
    "decoder_inputs=Input(shape=(None,))\n",
    "dec_emb_layer=Embedding(VOCAB_SIZE_HIN,latent_dim,mask_zero=True)\n",
    "dec_emb=dec_emb_layer(decoder_inputs)\n",
    "decoder_lstm=LSTM(latent_dim,return_state=True,return_sequences=True)\n",
    "decoder_outputs,_,_=decoder_lstm(dec_emb,initial_state=encoder_states)\n",
    "\n",
    "\n",
    "decoder_dense=Dense(VOCAB_SIZE_HIN,activation='softmax')\n",
    "decoder_outputs=decoder_dense(decoder_outputs)\n",
    "\n",
    "model=Model([encoder_inputs,decoder_inputs],decoder_outputs)"
   ]
  },
  {
   "cell_type": "code",
   "execution_count": 141,
   "metadata": {
    "colab": {
     "base_uri": "https://localhost:8080/",
     "height": 433
    },
    "colab_type": "code",
    "id": "arCnSoLq9A6R",
    "outputId": "52704e26-ff7d-43e3-bb1f-be49548c1fd5"
   },
   "outputs": [
    {
     "name": "stdout",
     "output_type": "stream",
     "text": [
      "Model: \"model_9\"\n",
      "__________________________________________________________________________________________________\n",
      "Layer (type)                    Output Shape         Param #     Connected to                     \n",
      "==================================================================================================\n",
      "input_11 (InputLayer)           (None, None)         0                                            \n",
      "__________________________________________________________________________________________________\n",
      "input_12 (InputLayer)           (None, None)         0                                            \n",
      "__________________________________________________________________________________________________\n",
      "embedding_5 (Embedding)         (None, None, 128)    1363584     input_11[0][0]                   \n",
      "__________________________________________________________________________________________________\n",
      "embedding_6 (Embedding)         (None, None, 128)    1527680     input_12[0][0]                   \n",
      "__________________________________________________________________________________________________\n",
      "lstm_5 (LSTM)                   [(None, 128), (None, 131584      embedding_5[0][0]                \n",
      "__________________________________________________________________________________________________\n",
      "lstm_6 (LSTM)                   [(None, None, 128),  131584      embedding_6[0][0]                \n",
      "                                                                 lstm_5[0][1]                     \n",
      "                                                                 lstm_5[0][2]                     \n",
      "__________________________________________________________________________________________________\n",
      "dense_3 (Dense)                 (None, None, 11935)  1539615     lstm_6[0][0]                     \n",
      "==================================================================================================\n",
      "Total params: 4,694,047\n",
      "Trainable params: 4,694,047\n",
      "Non-trainable params: 0\n",
      "__________________________________________________________________________________________________\n"
     ]
    }
   ],
   "source": [
    "model.summary()"
   ]
  },
  {
   "cell_type": "code",
   "execution_count": 0,
   "metadata": {
    "colab": {},
    "colab_type": "code",
    "id": "WlGaWlrB9A9z"
   },
   "outputs": [],
   "source": [
    "model.compile(optimizer='adam',loss='categorical_crossentropy')"
   ]
  },
  {
   "cell_type": "code",
   "execution_count": 0,
   "metadata": {
    "colab": {},
    "colab_type": "code",
    "id": "CLqDpC3t9BBn"
   },
   "outputs": [],
   "source": [
    "def generate_batch(X=XT , Y=YT, batch_size=32):\n",
    "    while True:\n",
    "        for i in range(0,len(X),batch_size):\n",
    "            encoder_input_data=np.zeros((batch_size,max_len_eng),dtype='float32')\n",
    "            decoder_input_data=np.zeros((batch_size,max_len_hin),dtype='float32')\n",
    "            decoder_output_data=np.zeros((batch_size,max_len_hin,VOCAB_SIZE_HIN),dtype='float32')\n",
    "            for j ,(eng_text,hin_text) in enumerate(zip(X[i:i+batch_size],Y[i:i+batch_size])):\n",
    "                for t,word in enumerate(eng_text.split()):\n",
    "                    encoder_input_data[j,t]=eng_word_to_idx[word]\n",
    "                \n",
    "                for t,word in enumerate(hin_text.split()):\n",
    "                    if(t<len(hin_text)-1):\n",
    "                        decoder_input_data[j,t]=hin_word_to_idx[word]\n",
    "                    if(t>0):\n",
    "                        decoder_output_data[j,t-1,hin_word_to_idx[word]]=1\n",
    "            \n",
    "            yield ([encoder_input_data,decoder_input_data],decoder_output_data)"
   ]
  },
  {
   "cell_type": "code",
   "execution_count": 144,
   "metadata": {
    "colab": {
     "base_uri": "https://localhost:8080/",
     "height": 364
    },
    "colab_type": "code",
    "id": "qtkn_G5O9BF6",
    "outputId": "2f5956ff-96fb-4e48-ff8c-67d20fdcadf5"
   },
   "outputs": [
    {
     "name": "stdout",
     "output_type": "stream",
     "text": [
      "Epoch 1/1\n",
      "920/919 [==============================] - 151s 164ms/step - loss: 4.9280\n",
      "Epoch 1/1\n",
      "920/919 [==============================] - 151s 164ms/step - loss: 4.1475\n",
      "Epoch 1/1\n",
      "920/919 [==============================] - 156s 169ms/step - loss: 3.6662\n",
      "Epoch 1/1\n",
      "920/919 [==============================] - 154s 168ms/step - loss: 3.2462\n",
      "Epoch 1/1\n",
      "920/919 [==============================] - 150s 163ms/step - loss: 2.8681\n",
      "Epoch 1/1\n",
      "920/919 [==============================] - 149s 162ms/step - loss: 2.5266\n",
      "Epoch 1/1\n",
      "920/919 [==============================] - 149s 162ms/step - loss: 2.2172\n",
      "Epoch 1/1\n",
      "920/919 [==============================] - 148s 161ms/step - loss: 1.9380\n",
      "Epoch 1/1\n",
      "920/919 [==============================] - 148s 161ms/step - loss: 1.6880\n",
      "Epoch 1/1\n",
      "920/919 [==============================] - 148s 160ms/step - loss: 1.4670\n"
     ]
    }
   ],
   "source": [
    "epochs=10\n",
    "batch_size=32\n",
    "steps=len(XT)/batch_size\n",
    "generator=generate_batch()\n",
    "\n",
    "for i in range(epochs):\n",
    "    generator=generate_batch()\n",
    "    model.fit_generator(generator=generator,steps_per_epoch=steps,epochs=1,verbose=1)\n",
    "\n",
    "#model.save(\"the_final_model.h5\")"
   ]
  },
  {
   "cell_type": "code",
   "execution_count": 0,
   "metadata": {
    "colab": {},
    "colab_type": "code",
    "id": "FG_L_3XhNPQ0"
   },
   "outputs": [],
   "source": [
    "model.save(\"the_final_model.h5\")"
   ]
  },
  {
   "cell_type": "code",
   "execution_count": 0,
   "metadata": {
    "colab": {},
    "colab_type": "code",
    "id": "xzqaNmbp9BJt"
   },
   "outputs": [],
   "source": [
    "encoder_model=Model(encoder_inputs,encoder_states)\n",
    "\n",
    "decoder_state_h=Input(shape=(latent_dim,))\n",
    "decoder_state_c=Input(shape=(latent_dim,))\n",
    "decoder_states_inputs=[decoder_state_h,decoder_state_c]\n",
    "\n",
    "dec_emb2=dec_emb_layer(decoder_inputs)\n",
    "\n",
    "decoder_outputs2, state_h2, state_c2=decoder_lstm(dec_emb2,initial_state=decoder_states_inputs)\n",
    "decoder_states2=[state_h2,state_c2]\n",
    "\n",
    "decoder_outputs2=decoder_dense(decoder_outputs2)\n",
    "\n",
    "decoder_model=Model([decoder_inputs] + decoder_states_inputs,[decoder_outputs2] + decoder_states2)"
   ]
  },
  {
   "cell_type": "code",
   "execution_count": 0,
   "metadata": {
    "colab": {},
    "colab_type": "code",
    "id": "ZZI4f7KYrRe6"
   },
   "outputs": [],
   "source": [
    "#encoder_model.save(\"encoder_model.h5\")\n",
    "#decoder_model.save(\"decoder_model.h5\")"
   ]
  },
  {
   "cell_type": "code",
   "execution_count": 0,
   "metadata": {
    "colab": {},
    "colab_type": "code",
    "id": "vyPVoyHcvW16"
   },
   "outputs": [],
   "source": [
    "#model.save(\"model_translate.h5\")"
   ]
  },
  {
   "cell_type": "code",
   "execution_count": 149,
   "metadata": {
    "colab": {
     "base_uri": "https://localhost:8080/",
     "height": 399
    },
    "colab_type": "code",
    "id": "rRt2RiP89BNF",
    "outputId": "1bed604b-ae81-41c8-f411-4791c8061add"
   },
   "outputs": [
    {
     "name": "stdout",
     "output_type": "stream",
     "text": [
      "Model: \"model_11\"\n",
      "__________________________________________________________________________________________________\n",
      "Layer (type)                    Output Shape         Param #     Connected to                     \n",
      "==================================================================================================\n",
      "input_12 (InputLayer)           (None, None)         0                                            \n",
      "__________________________________________________________________________________________________\n",
      "embedding_6 (Embedding)         (None, None, 128)    1527680     input_12[0][0]                   \n",
      "__________________________________________________________________________________________________\n",
      "input_13 (InputLayer)           (None, 128)          0                                            \n",
      "__________________________________________________________________________________________________\n",
      "input_14 (InputLayer)           (None, 128)          0                                            \n",
      "__________________________________________________________________________________________________\n",
      "lstm_6 (LSTM)                   [(None, None, 128),  131584      embedding_6[1][0]                \n",
      "                                                                 input_13[0][0]                   \n",
      "                                                                 input_14[0][0]                   \n",
      "__________________________________________________________________________________________________\n",
      "dense_3 (Dense)                 (None, None, 11935)  1539615     lstm_6[1][0]                     \n",
      "==================================================================================================\n",
      "Total params: 3,198,879\n",
      "Trainable params: 3,198,879\n",
      "Non-trainable params: 0\n",
      "__________________________________________________________________________________________________\n"
     ]
    }
   ],
   "source": [
    "decoder_model.summary()"
   ]
  },
  {
   "cell_type": "code",
   "execution_count": 0,
   "metadata": {
    "colab": {},
    "colab_type": "code",
    "id": "q5LZj18g8RaA"
   },
   "outputs": [],
   "source": [
    "def decode_sequence(input_seq):\n",
    "    states_value=encoder_model.predict(input_seq)\n",
    "    target_seq=np.zeros((1,1))\n",
    "    target_seq[0,0]=hin_word_to_idx[\"startseq\"]\n",
    "    \n",
    "    stop_condition=False\n",
    "    decoded_sentence=\"\"\n",
    "    \n",
    "    while stop_condition is False:\n",
    "        output_seq,h,c=decoder_model.predict([target_seq]+states_value)\n",
    "        \n",
    "        idx=np.argmax(output_seq[0,-1,:])\n",
    "        ch=hin_idx_to_word[idx]\n",
    "        decoded_sentence+=\" \"+ch\n",
    "        \n",
    "        if(ch==\"endseq\" or len(decoded_sentence)>40):\n",
    "            stop_condition=True\n",
    "        \n",
    "        target_seq=np.zeros((1,1))\n",
    "        target_seq[0,0]=idx\n",
    "        \n",
    "        states_value=[h,c]\n",
    "    \n",
    "    return decoded_sentence"
   ]
  },
  {
   "cell_type": "code",
   "execution_count": 0,
   "metadata": {
    "colab": {},
    "colab_type": "code",
    "id": "sVN9soNl8RcL"
   },
   "outputs": [],
   "source": [
    "train_gen=generate_batch(XT,YT,batch_size=1)\n",
    "k=-1"
   ]
  },
  {
   "cell_type": "code",
   "execution_count": 0,
   "metadata": {
    "colab": {},
    "colab_type": "code",
    "id": "z-UMpq21hfZj"
   },
   "outputs": [],
   "source": [
    "def data_clean(sentence):\n",
    "  sentence=sentence.lower()\n",
    "  sentence=re.sub(\"'\",'',sentence)\n",
    "  sentence=re.sub(\"[0-9]\",\"\",sentence)\n",
    "  spl_chars=string.punctuation\n",
    "  sentence=''.join(ch for ch in sentence if ch not in spl_chars)\n",
    "  sentence=re.sub(\" +\",\" \",sentence)\n",
    "  return sentence"
   ]
  },
  {
   "cell_type": "code",
   "execution_count": 0,
   "metadata": {
    "colab": {},
    "colab_type": "code",
    "id": "uqYvXqAudoZf"
   },
   "outputs": [],
   "source": [
    "def input_sentence(sentence):\n",
    "  sentence=data_clean(sentence)\n",
    "  seq=np.zeros((1,max_len_eng),dtype='float32')\n",
    "  for t,word in enumerate(sentence.split()):\n",
    "    seq[0,t]=eng_word_to_idx.get(word)\n",
    "  return decode_sequence(seq)\n"
   ]
  },
  {
   "cell_type": "code",
   "execution_count": 155,
   "metadata": {
    "colab": {
     "base_uri": "https://localhost:8080/",
     "height": 1000
    },
    "colab_type": "code",
    "id": "39sybrrg8Rfc",
    "outputId": "04931b40-8505-4264-d6ea-cf2f6f291fd2"
   },
   "outputs": [
    {
     "name": "stdout",
     "output_type": "stream",
     "text": [
      "Input=  download first\n",
      "Predicted=   प्रथम डाउनलोड \n",
      "\n",
      "Input=  negative float\n",
      "Predicted=   नेगेटिव फ्लोट \n",
      "\n",
      "Input=  he ordered them to release the prisoners\n",
      "Predicted=   उसने पुलिस अफ़सर को सुलाना करना चाहिए। \n",
      "\n",
      "Input=  height\n",
      "Predicted=   ऊँचाई \n",
      "\n",
      "Input=  maximum lifespan\n",
      "Predicted=   अधिकतम जीवनकाल \n",
      "\n",
      "Input=  roll or double\n",
      "Predicted=   एक वृत्त का सीमा \n",
      "\n",
      "Input=  filter the list by city name\n",
      "Predicted=   नाम नाम के लिए नाम चुनें \n",
      "\n",
      "Input=  i wish i had this problem\n",
      "Predicted=   मुझे मुझे इस घर को मुझे मिलना चाहिए। \n",
      "\n",
      "Input=  lock icons in place\n",
      "Predicted=   प्रारंभ में प्रतीक सक्षम करें \n",
      "\n",
      "Input=  select to beginning of document\n",
      "Predicted=   दस्तावेज़ के साथ चुनें \n",
      "\n",
      "Input=  pitfalls\n",
      "Predicted=   डिजाइनेबल \n",
      "\n",
      "Input=  started late\n",
      "Predicted=   प्रारंभ \n",
      "\n",
      "Input=  create new calendar file if one does not exist\n",
      "Predicted=   यदि कोई एक फ़ाइलें नहीं है या कोई नही\n",
      "\n",
      "Input=  server information\n",
      "Predicted=   सर्वर जानकारी \n",
      "\n",
      "Input=  autocompletion for forms\n",
      "Predicted=   फ़ॉर्म के लिए रूप में दिखाएँ \n",
      "\n",
      "Input=  default setting\n",
      "Predicted=   डिफ़ॉल्ट विन्यास \n",
      "\n",
      "Input=  show closed files\n",
      "Predicted=   विजेट फ़ाइलें दिखाएँ \n",
      "\n",
      "Input=  rotate view clockwise\n",
      "Predicted=   घड़ी को आड़े में ऊपर पैक करें \n",
      "\n",
      "Input=  this is a picture of my sister\n",
      "Predicted=   यह यह दवाई बहुत ही है। \n",
      "\n",
      "Input=  finished importing outlook express emails\n",
      "Predicted=   आउटलुक एक्सप्रेस ई मेल आयात करें \n",
      "\n"
     ]
    }
   ],
   "source": [
    "for i in range(20):\n",
    "  k+=1\n",
    "  (input_seq,actual_output),_=next(train_gen)\n",
    "  decoded_sentence=decode_sequence(input_seq)\n",
    "  print(\"Input= \",XT[k:k+1].values[0])\n",
    "  print(\"Predicted= \",decoded_sentence[:-6])\n",
    "  print()"
   ]
  },
  {
   "cell_type": "code",
   "execution_count": 164,
   "metadata": {
    "colab": {
     "base_uri": "https://localhost:8080/",
     "height": 52
    },
    "colab_type": "code",
    "id": "XKNr95gneNEt",
    "outputId": "79438e04-5294-4026-8cf1-adcc3ccc533f"
   },
   "outputs": [
    {
     "name": "stdout",
     "output_type": "stream",
     "text": [
      "Input=  i am not available\n",
      " मैं नहीं मिला \n"
     ]
    }
   ],
   "source": [
    "sen=\"i am not available\"\n",
    "print(\"Input= \",sen)\n",
    "print(input_sentence(sen)[:-6])"
   ]
  },
  {
   "cell_type": "code",
   "execution_count": 0,
   "metadata": {
    "colab": {},
    "colab_type": "code",
    "id": "8HDUCXMCEpW0"
   },
   "outputs": [],
   "source": []
  }
 ],
 "metadata": {
  "accelerator": "GPU",
  "colab": {
   "collapsed_sections": [],
   "machine_shape": "hm",
   "name": "English_to_hindi.ipynb",
   "provenance": [],
   "toc_visible": true
  },
  "kernelspec": {
   "display_name": "Python 3",
   "language": "python",
   "name": "python3"
  },
  "language_info": {
   "codemirror_mode": {
    "name": "ipython",
    "version": 3
   },
   "file_extension": ".py",
   "mimetype": "text/x-python",
   "name": "python",
   "nbconvert_exporter": "python",
   "pygments_lexer": "ipython3",
   "version": "3.7.3"
  }
 },
 "nbformat": 4,
 "nbformat_minor": 1
}
